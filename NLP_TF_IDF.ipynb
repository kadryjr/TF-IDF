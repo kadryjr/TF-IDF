{
  "nbformat": 4,
  "nbformat_minor": 0,
  "metadata": {
    "colab": {
      "name": "NLP TF-IDF.ipynb",
      "provenance": []
    },
    "kernelspec": {
      "name": "python3",
      "display_name": "Python 3"
    },
    "language_info": {
      "name": "python"
    }
  },
  "cells": [
    {
      "cell_type": "code",
      "execution_count": null,
      "metadata": {
        "id": "-COLN1KQ82jU"
      },
      "outputs": [],
      "source": [
        "from sklearn.feature_extraction.text import TfidfVectorizer\n",
        "import numpy as np\n",
        "import math\n",
        "from scipy.spatial import distance"
      ]
    },
    {
      "cell_type": "code",
      "source": [
        "first_domain = \"AlAhly Sporting Club The National Club commonly referred to as AlAhly is an Egyptian professional sports club based in Cairo It is one of the most successful football clubs in the world based on total trophies won Its professional football team plays in the Egyptian Premier League the top tier in the Egyptian football league system The club was founded on April as a gathering place for Cairos Student Unions AlAhly has a record of national league titles national cup titles and national super cup titles making them the most decorated club in Egypt The club has never been relegated to the Egyptian Second Division AlAhly is considered the most successful team in Africa and is one of the continents giants  In international competitions the club has won a record CAF Champions League titles a CAF Confederation Cup a record eight CAF Super Cups a record four African Cup Winners Cups an AfroAsian Club Championship an Arab Club Champions Cup an Arab Cup Winners Cup a record two Arab Super Cups and has won three bronze medals in the FIFA Club World Cup With continental titles AlAhly is the most successful football club in African history and was voted by CAF as African club of the century The clubs international trophy haul is the second largest in world football behind only Real Madrid\"\n",
        "first_domain"
      ],
      "metadata": {
        "colab": {
          "base_uri": "https://localhost:8080/",
          "height": 122
        },
        "id": "uYD6ofFmZN68",
        "outputId": "b331ceb6-7f6d-4d46-affe-a76c8ddef5c9"
      },
      "execution_count": null,
      "outputs": [
        {
          "output_type": "execute_result",
          "data": {
            "text/plain": [
              "'AlAhly Sporting Club The National Club commonly referred to as AlAhly is an Egyptian professional sports club based in Cairo It is one of the most successful football clubs in the world based on total trophies won Its professional football team plays in the Egyptian Premier League the top tier in the Egyptian football league system The club was founded on April as a gathering place for Cairos Student Unions AlAhly has a record of national league titles national cup titles and national super cup titles making them the most decorated club in Egypt The club has never been relegated to the Egyptian Second Division AlAhly is considered the most successful team in Africa and is one of the continents giants  In international competitions the club has won a record CAF Champions League titles a CAF Confederation Cup a record eight CAF Super Cups a record four African Cup Winners Cups an AfroAsian Club Championship an Arab Club Champions Cup an Arab Cup Winners Cup a record two Arab Super Cups and has won three bronze medals in the FIFA Club World Cup With continental titles AlAhly is the most successful football club in African history and was voted by CAF as African club of the century The clubs international trophy haul is the second largest in world football behind only Real Madrid'"
            ],
            "application/vnd.google.colaboratory.intrinsic+json": {
              "type": "string"
            }
          },
          "metadata": {},
          "execution_count": 20
        }
      ]
    },
    {
      "cell_type": "code",
      "source": [
        "second_domain = \"Bayerische Motoren Werke AG commonly referred to as BMW is a German multinational corporate manufacturer of luxury vehicles and motorcycles headquartered in Munich Bavaria Germany The corporation was founded in as a manufacturer of aircraft engines which it produced from until and again from to Automobiles are marketed under the brands BMW Mini and RollsRoyce and motorcycles are marketed under the brand BMW Motorrad In BMW was the worlds fourteenthlargest producer of motor vehicles with vehicles produced The company has significant motorsport history especially in touring cars Formula sports cars and the Isle of Man TT BMW is headquartered in Munich and produces motor vehicles in Germany Brazil China India Mexico the Netherlands South Africa the United Kingdom and the United States The Quandt family is a longterm shareholder of the company with the remaining shares owned by public float following investments by the brothers Herbert and Harald Quandt in which saved the company from bankruptcy\"\n",
        "second_domain"
      ],
      "metadata": {
        "colab": {
          "base_uri": "https://localhost:8080/",
          "height": 122
        },
        "id": "H3aXAZxxA3yB",
        "outputId": "dcc145b3-ddb2-4ba6-bbb3-985dab85bfdf"
      },
      "execution_count": null,
      "outputs": [
        {
          "output_type": "execute_result",
          "data": {
            "text/plain": [
              "'Bayerische Motoren Werke AG commonly referred to as BMW is a German multinational corporate manufacturer of luxury vehicles and motorcycles headquartered in Munich Bavaria Germany The corporation was founded in as a manufacturer of aircraft engines which it produced from until and again from to Automobiles are marketed under the brands BMW Mini and RollsRoyce and motorcycles are marketed under the brand BMW Motorrad In BMW was the worlds fourteenthlargest producer of motor vehicles with vehicles produced The company has significant motorsport history especially in touring cars Formula sports cars and the Isle of Man TT BMW is headquartered in Munich and produces motor vehicles in Germany Brazil China India Mexico the Netherlands South Africa the United Kingdom and the United States The Quandt family is a longterm shareholder of the company with the remaining shares owned by public float following investments by the brothers Herbert and Harald Quandt in which saved the company from bankruptcy'"
            ],
            "application/vnd.google.colaboratory.intrinsic+json": {
              "type": "string"
            }
          },
          "metadata": {},
          "execution_count": 21
        }
      ]
    },
    {
      "cell_type": "code",
      "source": [
        "corpus = [first_domain, second_domain]\n",
        "len(corpus)"
      ],
      "metadata": {
        "colab": {
          "base_uri": "https://localhost:8080/"
        },
        "id": "f60EZz39Cm96",
        "outputId": "35c3d6c3-317a-48f4-8642-28f1037ef750"
      },
      "execution_count": null,
      "outputs": [
        {
          "output_type": "execute_result",
          "data": {
            "text/plain": [
              "2"
            ]
          },
          "metadata": {},
          "execution_count": 22
        }
      ]
    },
    {
      "cell_type": "code",
      "source": [
        "text = [\"Hany love going to school\", \"The school is far from Sara home\", \"Hany likes apple more than banana\", \"Sara likes apple too\"]"
      ],
      "metadata": {
        "id": "NH465Cgt-vmC"
      },
      "execution_count": null,
      "outputs": []
    },
    {
      "cell_type": "code",
      "source": [
        "vectorizer = TfidfVectorizer()\n",
        "vectorizer.fit(text)\n",
        "vocs = vectorizer.vocabulary_\n",
        "vocs, vectorizer.idf_"
      ],
      "metadata": {
        "colab": {
          "base_uri": "https://localhost:8080/"
        },
        "id": "KfyOPnilHvct",
        "outputId": "db17c841-0615-4b08-f0a8-67314125e1f4"
      },
      "execution_count": null,
      "outputs": [
        {
          "output_type": "execute_result",
          "data": {
            "text/plain": [
              "({'apple': 0,\n",
              "  'banana': 1,\n",
              "  'far': 2,\n",
              "  'from': 3,\n",
              "  'going': 4,\n",
              "  'hany': 5,\n",
              "  'home': 6,\n",
              "  'is': 7,\n",
              "  'likes': 8,\n",
              "  'love': 9,\n",
              "  'more': 10,\n",
              "  'sara': 11,\n",
              "  'school': 12,\n",
              "  'than': 13,\n",
              "  'the': 14,\n",
              "  'to': 15,\n",
              "  'too': 16},\n",
              " array([1.51082562, 1.91629073, 1.91629073, 1.91629073, 1.91629073,\n",
              "        1.51082562, 1.91629073, 1.91629073, 1.51082562, 1.91629073,\n",
              "        1.91629073, 1.51082562, 1.51082562, 1.91629073, 1.91629073,\n",
              "        1.91629073, 1.91629073]))"
            ]
          },
          "metadata": {},
          "execution_count": 3
        }
      ]
    },
    {
      "cell_type": "code",
      "source": [
        "def make_dictionary(text: list):\n",
        "  vocs = text[0].lower().split(\" \")\n",
        "  for i in range(len(text)):\n",
        "    vocs = list(set(vocs).union(text[i].lower().split(\" \")))\n",
        "\n",
        "  vocs.sort()\n",
        "\n",
        "  return vocs"
      ],
      "metadata": {
        "id": "ouI1CwJvdqVC"
      },
      "execution_count": null,
      "outputs": []
    },
    {
      "cell_type": "code",
      "source": [
        "def calculate_tf(doc, vocabs):\n",
        "  tf = []\n",
        "  for vocab in vocabs:\n",
        "    n = doc.count(vocab)\n",
        "    tf.append(n)\n",
        "\n",
        "  return tf"
      ],
      "metadata": {
        "id": "zjhY_DaZjscW"
      },
      "execution_count": null,
      "outputs": []
    },
    {
      "cell_type": "code",
      "source": [
        "def calculate_idf(text: list, vocabs: set):\n",
        "  idf = []\n",
        "  N = len(text)\n",
        "  for vocab in vocabs:\n",
        "    Nt = 0\n",
        "    for i in range(N):\n",
        "      if vocab in text[i].lower():\n",
        "        Nt += 1\n",
        "\n",
        "    idf.append(Nt)\n",
        "    \n",
        "  for i in range(len(idf)):\n",
        "    idf[i] = np.log( (1+N) / (1+idf[i]) ) + 1\n",
        "    idf[i] = idf[i].round(5)\n",
        "\n",
        "  return idf"
      ],
      "metadata": {
        "id": "WMIOlYP8JdPo"
      },
      "execution_count": null,
      "outputs": []
    },
    {
      "cell_type": "code",
      "source": [
        "def calculate_tfidf(tf, idf):\n",
        "  tfidf = []\n",
        "  for i in range(len(tf)):\n",
        "    temp = tf[i] * idf[i]\n",
        "    tfidf.append(temp)\n",
        "\n",
        "  new_tfidf = normalize_tfidf(tfidf)\n",
        "\n",
        "  return new_tfidf"
      ],
      "metadata": {
        "id": "6QbOWANqq2Lk"
      },
      "execution_count": null,
      "outputs": []
    },
    {
      "cell_type": "code",
      "source": [
        "def normalize_tfidf(tfidf):\n",
        "  new_tfidf = []\n",
        "  power = []\n",
        "\n",
        "  for i in range(len(tfidf)):\n",
        "    power.append(math.pow(tfidf[i], 2))\n",
        "  \n",
        "  for i in range(len(tfidf)):\n",
        "    temp = tfidf[i] / (math.sqrt(sum(power)))\n",
        "    temp = temp.round(5)\n",
        "    new_tfidf.append(temp)\n",
        "\n",
        "  return new_tfidf"
      ],
      "metadata": {
        "id": "O_Jm9cZgygC_"
      },
      "execution_count": null,
      "outputs": []
    },
    {
      "cell_type": "code",
      "source": [
        "vocabs = make_dictionary(text)\n",
        "idf = calculate_idf(text, vocabs)\n",
        "\n",
        "vocabs, idf"
      ],
      "metadata": {
        "colab": {
          "base_uri": "https://localhost:8080/"
        },
        "id": "q4-haLJ6RgIh",
        "outputId": "0a52ed83-5aee-4ede-caa3-c6269991c859"
      },
      "execution_count": null,
      "outputs": [
        {
          "output_type": "execute_result",
          "data": {
            "text/plain": [
              "(['apple',\n",
              "  'banana',\n",
              "  'far',\n",
              "  'from',\n",
              "  'going',\n",
              "  'hany',\n",
              "  'home',\n",
              "  'is',\n",
              "  'likes',\n",
              "  'love',\n",
              "  'more',\n",
              "  'sara',\n",
              "  'school',\n",
              "  'than',\n",
              "  'the',\n",
              "  'to',\n",
              "  'too'],\n",
              " [1.51083,\n",
              "  1.91629,\n",
              "  1.91629,\n",
              "  1.91629,\n",
              "  1.91629,\n",
              "  1.51083,\n",
              "  1.91629,\n",
              "  1.91629,\n",
              "  1.51083,\n",
              "  1.91629,\n",
              "  1.91629,\n",
              "  1.51083,\n",
              "  1.51083,\n",
              "  1.91629,\n",
              "  1.91629,\n",
              "  1.51083,\n",
              "  1.91629])"
            ]
          },
          "metadata": {},
          "execution_count": 30
        }
      ]
    },
    {
      "cell_type": "code",
      "source": [
        "tf = calculate_tf(text[2].lower(), vocabs)\n",
        "tfidf = calculate_tfidf(tf, idf)\n",
        "tfidf"
      ],
      "metadata": {
        "colab": {
          "base_uri": "https://localhost:8080/"
        },
        "id": "vp3U2_N0jTZh",
        "outputId": "810bdd92-54ee-4313-a513-66e99e0f6abe"
      },
      "execution_count": null,
      "outputs": [
        {
          "output_type": "execute_result",
          "data": {
            "text/plain": [
              "[0.35746,\n",
              " 0.45339,\n",
              " 0.0,\n",
              " 0.0,\n",
              " 0.0,\n",
              " 0.35746,\n",
              " 0.0,\n",
              " 0.0,\n",
              " 0.35746,\n",
              " 0.0,\n",
              " 0.45339,\n",
              " 0.0,\n",
              " 0.0,\n",
              " 0.45339,\n",
              " 0.0,\n",
              " 0.0,\n",
              " 0.0]"
            ]
          },
          "metadata": {},
          "execution_count": 31
        }
      ]
    },
    {
      "cell_type": "code",
      "source": [
        "vector = vectorizer.transform([text[2]])\n",
        "  # print(\"text Number [{}]  {}\".format)\n",
        "vector.toarray()"
      ],
      "metadata": {
        "colab": {
          "base_uri": "https://localhost:8080/"
        },
        "id": "2db9zUuhyGnG",
        "outputId": "984d9521-ac44-4ae3-f696-61cc4fd58c87"
      },
      "execution_count": null,
      "outputs": [
        {
          "output_type": "execute_result",
          "data": {
            "text/plain": [
              "array([[0.35745504, 0.4533864 , 0.        , 0.        , 0.        ,\n",
              "        0.35745504, 0.        , 0.        , 0.35745504, 0.        ,\n",
              "        0.4533864 , 0.        , 0.        , 0.4533864 , 0.        ,\n",
              "        0.        , 0.        ]])"
            ]
          },
          "metadata": {},
          "execution_count": 11
        }
      ]
    },
    {
      "cell_type": "code",
      "source": [
        "vocabs = make_dictionary(corpus)\n",
        "idf = calculate_idf(text, vocabs)\n",
        "\n",
        "vocabs, idf"
      ],
      "metadata": {
        "colab": {
          "base_uri": "https://localhost:8080/"
        },
        "id": "i-dvxdYE75-T",
        "outputId": "e52ad2d6-708f-4857-a019-6cd8d44b5783"
      },
      "execution_count": null,
      "outputs": [
        {
          "output_type": "execute_result",
          "data": {
            "text/plain": [
              "(['',\n",
              "  'a',\n",
              "  'africa',\n",
              "  'african',\n",
              "  'afroasian',\n",
              "  'ag',\n",
              "  'again',\n",
              "  'aircraft',\n",
              "  'alahly',\n",
              "  'an',\n",
              "  'and',\n",
              "  'april',\n",
              "  'arab',\n",
              "  'are',\n",
              "  'as',\n",
              "  'automobiles',\n",
              "  'bankruptcy',\n",
              "  'based',\n",
              "  'bavaria',\n",
              "  'bayerische',\n",
              "  'been',\n",
              "  'behind',\n",
              "  'bmw',\n",
              "  'brand',\n",
              "  'brands',\n",
              "  'brazil',\n",
              "  'bronze',\n",
              "  'brothers',\n",
              "  'by',\n",
              "  'caf',\n",
              "  'cairo',\n",
              "  'cairos',\n",
              "  'cars',\n",
              "  'century',\n",
              "  'champions',\n",
              "  'championship',\n",
              "  'china',\n",
              "  'club',\n",
              "  'clubs',\n",
              "  'commonly',\n",
              "  'company',\n",
              "  'competitions',\n",
              "  'confederation',\n",
              "  'considered',\n",
              "  'continental',\n",
              "  'continents',\n",
              "  'corporate',\n",
              "  'corporation',\n",
              "  'cup',\n",
              "  'cups',\n",
              "  'decorated',\n",
              "  'division',\n",
              "  'egypt',\n",
              "  'egyptian',\n",
              "  'eight',\n",
              "  'engines',\n",
              "  'especially',\n",
              "  'family',\n",
              "  'fifa',\n",
              "  'float',\n",
              "  'following',\n",
              "  'football',\n",
              "  'for',\n",
              "  'formula',\n",
              "  'founded',\n",
              "  'four',\n",
              "  'fourteenthlargest',\n",
              "  'from',\n",
              "  'gathering',\n",
              "  'german',\n",
              "  'germany',\n",
              "  'giants',\n",
              "  'harald',\n",
              "  'has',\n",
              "  'haul',\n",
              "  'headquartered',\n",
              "  'herbert',\n",
              "  'history',\n",
              "  'in',\n",
              "  'india',\n",
              "  'international',\n",
              "  'investments',\n",
              "  'is',\n",
              "  'isle',\n",
              "  'it',\n",
              "  'its',\n",
              "  'kingdom',\n",
              "  'largest',\n",
              "  'league',\n",
              "  'longterm',\n",
              "  'luxury',\n",
              "  'madrid',\n",
              "  'making',\n",
              "  'man',\n",
              "  'manufacturer',\n",
              "  'marketed',\n",
              "  'medals',\n",
              "  'mexico',\n",
              "  'mini',\n",
              "  'most',\n",
              "  'motor',\n",
              "  'motorcycles',\n",
              "  'motoren',\n",
              "  'motorrad',\n",
              "  'motorsport',\n",
              "  'multinational',\n",
              "  'munich',\n",
              "  'national',\n",
              "  'netherlands',\n",
              "  'never',\n",
              "  'of',\n",
              "  'on',\n",
              "  'one',\n",
              "  'only',\n",
              "  'owned',\n",
              "  'place',\n",
              "  'plays',\n",
              "  'premier',\n",
              "  'produced',\n",
              "  'producer',\n",
              "  'produces',\n",
              "  'professional',\n",
              "  'public',\n",
              "  'quandt',\n",
              "  'real',\n",
              "  'record',\n",
              "  'referred',\n",
              "  'relegated',\n",
              "  'remaining',\n",
              "  'rollsroyce',\n",
              "  'saved',\n",
              "  'second',\n",
              "  'shareholder',\n",
              "  'shares',\n",
              "  'significant',\n",
              "  'south',\n",
              "  'sporting',\n",
              "  'sports',\n",
              "  'states',\n",
              "  'student',\n",
              "  'successful',\n",
              "  'super',\n",
              "  'system',\n",
              "  'team',\n",
              "  'the',\n",
              "  'them',\n",
              "  'three',\n",
              "  'tier',\n",
              "  'titles',\n",
              "  'to',\n",
              "  'top',\n",
              "  'total',\n",
              "  'touring',\n",
              "  'trophies',\n",
              "  'trophy',\n",
              "  'tt',\n",
              "  'two',\n",
              "  'under',\n",
              "  'unions',\n",
              "  'united',\n",
              "  'until',\n",
              "  'vehicles',\n",
              "  'voted',\n",
              "  'was',\n",
              "  'werke',\n",
              "  'which',\n",
              "  'winners',\n",
              "  'with',\n",
              "  'won',\n",
              "  'world',\n",
              "  'worlds'],\n",
              " [1.0,\n",
              "  1.0,\n",
              "  2.60944,\n",
              "  2.60944,\n",
              "  2.60944,\n",
              "  2.60944,\n",
              "  2.60944,\n",
              "  2.60944,\n",
              "  2.60944,\n",
              "  1.51083,\n",
              "  2.60944,\n",
              "  2.60944,\n",
              "  2.60944,\n",
              "  2.60944,\n",
              "  2.60944,\n",
              "  2.60944,\n",
              "  2.60944,\n",
              "  2.60944,\n",
              "  2.60944,\n",
              "  2.60944,\n",
              "  2.60944,\n",
              "  2.60944,\n",
              "  2.60944,\n",
              "  2.60944,\n",
              "  2.60944,\n",
              "  2.60944,\n",
              "  2.60944,\n",
              "  2.60944,\n",
              "  2.60944,\n",
              "  2.60944,\n",
              "  2.60944,\n",
              "  2.60944,\n",
              "  2.60944,\n",
              "  2.60944,\n",
              "  2.60944,\n",
              "  2.60944,\n",
              "  2.60944,\n",
              "  2.60944,\n",
              "  2.60944,\n",
              "  2.60944,\n",
              "  2.60944,\n",
              "  2.60944,\n",
              "  2.60944,\n",
              "  2.60944,\n",
              "  2.60944,\n",
              "  2.60944,\n",
              "  2.60944,\n",
              "  2.60944,\n",
              "  2.60944,\n",
              "  2.60944,\n",
              "  2.60944,\n",
              "  2.60944,\n",
              "  2.60944,\n",
              "  2.60944,\n",
              "  2.60944,\n",
              "  2.60944,\n",
              "  2.60944,\n",
              "  2.60944,\n",
              "  2.60944,\n",
              "  2.60944,\n",
              "  2.60944,\n",
              "  2.60944,\n",
              "  2.60944,\n",
              "  2.60944,\n",
              "  2.60944,\n",
              "  2.60944,\n",
              "  2.60944,\n",
              "  1.91629,\n",
              "  2.60944,\n",
              "  2.60944,\n",
              "  2.60944,\n",
              "  2.60944,\n",
              "  2.60944,\n",
              "  2.60944,\n",
              "  2.60944,\n",
              "  2.60944,\n",
              "  2.60944,\n",
              "  2.60944,\n",
              "  1.91629,\n",
              "  2.60944,\n",
              "  2.60944,\n",
              "  2.60944,\n",
              "  1.91629,\n",
              "  2.60944,\n",
              "  2.60944,\n",
              "  2.60944,\n",
              "  2.60944,\n",
              "  2.60944,\n",
              "  2.60944,\n",
              "  2.60944,\n",
              "  2.60944,\n",
              "  2.60944,\n",
              "  2.60944,\n",
              "  2.60944,\n",
              "  2.60944,\n",
              "  2.60944,\n",
              "  2.60944,\n",
              "  2.60944,\n",
              "  2.60944,\n",
              "  2.60944,\n",
              "  2.60944,\n",
              "  2.60944,\n",
              "  2.60944,\n",
              "  2.60944,\n",
              "  2.60944,\n",
              "  2.60944,\n",
              "  2.60944,\n",
              "  2.60944,\n",
              "  2.60944,\n",
              "  2.60944,\n",
              "  2.60944,\n",
              "  2.60944,\n",
              "  2.60944,\n",
              "  2.60944,\n",
              "  2.60944,\n",
              "  2.60944,\n",
              "  2.60944,\n",
              "  2.60944,\n",
              "  2.60944,\n",
              "  2.60944,\n",
              "  2.60944,\n",
              "  2.60944,\n",
              "  2.60944,\n",
              "  2.60944,\n",
              "  2.60944,\n",
              "  2.60944,\n",
              "  2.60944,\n",
              "  2.60944,\n",
              "  2.60944,\n",
              "  2.60944,\n",
              "  2.60944,\n",
              "  2.60944,\n",
              "  2.60944,\n",
              "  2.60944,\n",
              "  2.60944,\n",
              "  2.60944,\n",
              "  2.60944,\n",
              "  2.60944,\n",
              "  2.60944,\n",
              "  2.60944,\n",
              "  2.60944,\n",
              "  2.60944,\n",
              "  2.60944,\n",
              "  2.60944,\n",
              "  1.91629,\n",
              "  2.60944,\n",
              "  2.60944,\n",
              "  2.60944,\n",
              "  2.60944,\n",
              "  1.51083,\n",
              "  2.60944,\n",
              "  2.60944,\n",
              "  2.60944,\n",
              "  2.60944,\n",
              "  2.60944,\n",
              "  2.60944,\n",
              "  2.60944,\n",
              "  2.60944,\n",
              "  2.60944,\n",
              "  2.60944,\n",
              "  2.60944,\n",
              "  2.60944,\n",
              "  2.60944,\n",
              "  2.60944,\n",
              "  2.60944,\n",
              "  2.60944,\n",
              "  2.60944,\n",
              "  2.60944,\n",
              "  2.60944,\n",
              "  2.60944,\n",
              "  2.60944])"
            ]
          },
          "metadata": {},
          "execution_count": 23
        }
      ]
    },
    {
      "cell_type": "code",
      "source": [
        "first_tf = calculate_tf(corpus[0].lower(), vocabs)\n",
        "first_tfidf = calculate_tfidf(first_tf, idf)\n",
        "first_tfidf"
      ],
      "metadata": {
        "colab": {
          "base_uri": "https://localhost:8080/"
        },
        "id": "38Hb154-DMcp",
        "outputId": "6384e288-a880-4299-f65d-8e59d79c1fc0"
      },
      "execution_count": null,
      "outputs": [
        {
          "output_type": "execute_result",
          "data": {
            "text/plain": [
              "[0.0,\n",
              " 0.0,\n",
              " 0.0,\n",
              " 0.0,\n",
              " 0.0,\n",
              " 0.0,\n",
              " 0.0,\n",
              " 0.36532,\n",
              " 0.0,\n",
              " 0.0,\n",
              " 0.0,\n",
              " 0.0,\n",
              " 0.0,\n",
              " 0.0,\n",
              " 0.91331,\n",
              " 0.18002,\n",
              " 0.0]"
            ]
          },
          "metadata": {},
          "execution_count": 32
        }
      ]
    },
    {
      "cell_type": "code",
      "source": [
        "second_tf = calculate_tf(corpus[1].lower(), vocabs)\n",
        "second_tfidf = calculate_tfidf(second_tf, idf)\n",
        "second_tfidf"
      ],
      "metadata": {
        "colab": {
          "base_uri": "https://localhost:8080/"
        },
        "id": "uBD3x3uTEHRI",
        "outputId": "0da1937d-5c68-4b51-de8d-6697f2f3fd79"
      },
      "execution_count": null,
      "outputs": [
        {
          "output_type": "execute_result",
          "data": {
            "text/plain": [
              "[0.0,\n",
              " 0.0,\n",
              " 0.0,\n",
              " 0.15181,\n",
              " 0.0,\n",
              " 0.0,\n",
              " 0.0,\n",
              " 0.30362,\n",
              " 0.0,\n",
              " 0.0,\n",
              " 0.0,\n",
              " 0.0,\n",
              " 0.0,\n",
              " 0.0,\n",
              " 0.80966,\n",
              " 0.47876,\n",
              " 0.0]"
            ]
          },
          "metadata": {},
          "execution_count": 33
        }
      ]
    },
    {
      "cell_type": "code",
      "source": [
        "first_test = \"Manchester United Football Club is a professional football club based in Old Trafford Greater Manchester England that competes in the Premier League the top flight of English football Nicknamed the Red Devils the club was founded as Newton Heath LYR Football Club in but changed its name to Manchester United in The club moved from Newton Heath to its current stadium Old Trafford in Manchester United have won the jointrecord number of trophies in English club football including a record League titles FA Cups five League Cups and a record FA Community Shields They have won the European Cup UEFA Champions League three times and the UEFA Europa League the UEFA Cup Winners Cup the UEFA Super Cup the Intercontinental Cup and the FIFA Club World Cup once each In under the management of Matt Busby years after eight of the clubs players were killed in the Munich air disaster they became the first English club to win the European Cup\"\n",
        "first_test"
      ],
      "metadata": {
        "colab": {
          "base_uri": "https://localhost:8080/",
          "height": 122
        },
        "id": "JFadv3kNEQeL",
        "outputId": "5ef897ec-24a5-48be-c862-1b0d78010b15"
      },
      "execution_count": null,
      "outputs": [
        {
          "output_type": "execute_result",
          "data": {
            "text/plain": [
              "'Manchester United Football Club is a professional football club based in Old Trafford Greater Manchester England that competes in the Premier League the top flight of English football Nicknamed the Red Devils the club was founded as Newton Heath LYR Football Club in but changed its name to Manchester United in The club moved from Newton Heath to its current stadium Old Trafford in Manchester United have won the jointrecord number of trophies in English club football including a record League titles FA Cups five League Cups and a record FA Community Shields They have won the European Cup UEFA Champions League three times and the UEFA Europa League the UEFA Cup Winners Cup the UEFA Super Cup the Intercontinental Cup and the FIFA Club World Cup once each In under the management of Matt Busby years after eight of the clubs players were killed in the Munich air disaster they became the first English club to win the European Cup'"
            ],
            "application/vnd.google.colaboratory.intrinsic+json": {
              "type": "string"
            }
          },
          "metadata": {},
          "execution_count": 26
        }
      ]
    },
    {
      "cell_type": "code",
      "source": [
        "third_tf = calculate_tf(first_test, vocabs)\n",
        "third_tfidf = calculate_tfidf(third_tf, idf)\n",
        "third_tfidf"
      ],
      "metadata": {
        "colab": {
          "base_uri": "https://localhost:8080/"
        },
        "id": "adfFtliUIP5G",
        "outputId": "848687e2-ce91-49bc-ab10-d2ef157a0acd"
      },
      "execution_count": null,
      "outputs": [
        {
          "output_type": "execute_result",
          "data": {
            "text/plain": [
              "[0.0,\n",
              " 0.0,\n",
              " 0.0,\n",
              " 0.05444,\n",
              " 0.0,\n",
              " 0.0,\n",
              " 0.0,\n",
              " 0.27221,\n",
              " 0.0,\n",
              " 0.0,\n",
              " 0.0,\n",
              " 0.0,\n",
              " 0.0,\n",
              " 0.0,\n",
              " 0.92553,\n",
              " 0.25754,\n",
              " 0.0]"
            ]
          },
          "metadata": {},
          "execution_count": 34
        }
      ]
    },
    {
      "cell_type": "code",
      "source": [
        "distance_first_third = distance.euclidean(first_tfidf, third_tfidf)\n",
        "distance_second_third = distance.euclidean(second_tfidf, third_tfidf)\n",
        "distance_first_third, distance_second_third"
      ],
      "metadata": {
        "colab": {
          "base_uri": "https://localhost:8080/"
        },
        "id": "OIOXulC8I0u-",
        "outputId": "c226c340-c035-45bf-f5fd-181a9207e65b"
      },
      "execution_count": null,
      "outputs": [
        {
          "output_type": "execute_result",
          "data": {
            "text/plain": [
              "(0.13338614808142557, 0.269873396799314)"
            ]
          },
          "metadata": {},
          "execution_count": 38
        }
      ]
    },
    {
      "cell_type": "code",
      "source": [
        "second_test = \"MercedesBenz commonly referred to as Mercedes is a German luxury automotive brand Both MercedesBenz and MercedesBenz AG a MercedesBenz Group subsidiary established in are headquartered in Stuttgart BadenWürttemberg Germany MercedesBenz produces consumer luxury vehicles and commercial vehicles Its first MercedesBenzbadged vehicles were produced in In MercedesBenz was the largest seller of premium vehicles in the world having sold million passenger cars\"\n",
        "second_test"
      ],
      "metadata": {
        "colab": {
          "base_uri": "https://localhost:8080/",
          "height": 70
        },
        "id": "9Txq0wuJJeyT",
        "outputId": "95fa5808-a6df-4302-e84c-efb894f96bfa"
      },
      "execution_count": null,
      "outputs": [
        {
          "output_type": "execute_result",
          "data": {
            "text/plain": [
              "'MercedesBenz commonly referred to as Mercedes is a German luxury automotive brand Both MercedesBenz and MercedesBenz AG a MercedesBenz Group subsidiary established in are headquartered in Stuttgart BadenWürttemberg Germany MercedesBenz produces consumer luxury vehicles and commercial vehicles Its first MercedesBenzbadged vehicles were produced in In MercedesBenz was the largest seller of premium vehicles in the world having sold million passenger cars'"
            ],
            "application/vnd.google.colaboratory.intrinsic+json": {
              "type": "string"
            }
          },
          "metadata": {},
          "execution_count": 40
        }
      ]
    },
    {
      "cell_type": "code",
      "source": [
        "fourth_tf = calculate_tf(second_test, vocabs)\n",
        "fourth_tfidf = calculate_tfidf(fourth_tf, idf)\n",
        "fourth_tfidf"
      ],
      "metadata": {
        "colab": {
          "base_uri": "https://localhost:8080/"
        },
        "id": "CDbi5DCzKhpp",
        "outputId": "a7619795-a6af-47ab-d370-039b3b217e44"
      },
      "execution_count": null,
      "outputs": [
        {
          "output_type": "execute_result",
          "data": {
            "text/plain": [
              "[0.0,\n",
              " 0.0,\n",
              " 0.0,\n",
              " 0.0,\n",
              " 0.0,\n",
              " 0.0,\n",
              " 0.0,\n",
              " 0.61761,\n",
              " 0.0,\n",
              " 0.0,\n",
              " 0.0,\n",
              " 0.0,\n",
              " 0.0,\n",
              " 0.0,\n",
              " 0.61761,\n",
              " 0.48694,\n",
              " 0.0]"
            ]
          },
          "metadata": {},
          "execution_count": 42
        }
      ]
    },
    {
      "cell_type": "code",
      "source": [
        "distance_first_fourth = distance.euclidean(first_tfidf, fourth_tfidf)\n",
        "distance_second_fourth = distance.euclidean(second_tfidf, fourth_tfidf)\n",
        "distance_first_fourth, distance_second_fourth"
      ],
      "metadata": {
        "colab": {
          "base_uri": "https://localhost:8080/"
        },
        "id": "Bph0NIvqKmG9",
        "outputId": "08d9613d-17b4-42a0-95d5-7c59a719eb89"
      },
      "execution_count": null,
      "outputs": [
        {
          "output_type": "execute_result",
          "data": {
            "text/plain": [
              "(0.4952662117487927, 0.39822871707098173)"
            ]
          },
          "metadata": {},
          "execution_count": 43
        }
      ]
    },
    {
      "cell_type": "code",
      "source": [
        ""
      ],
      "metadata": {
        "id": "coP2l12cK9fH"
      },
      "execution_count": null,
      "outputs": []
    }
  ]
}